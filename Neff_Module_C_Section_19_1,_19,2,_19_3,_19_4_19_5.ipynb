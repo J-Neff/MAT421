{
  "nbformat": 4,
  "nbformat_minor": 0,
  "metadata": {
    "colab": {
      "provenance": [],
      "authorship_tag": "ABX9TyMtr4hejF85Lv9X2Cm2bh7U",
      "include_colab_link": true
    },
    "kernelspec": {
      "name": "python3",
      "display_name": "Python 3"
    },
    "language_info": {
      "name": "python"
    }
  },
  "cells": [
    {
      "cell_type": "markdown",
      "metadata": {
        "id": "view-in-github",
        "colab_type": "text"
      },
      "source": [
        "<a href=\"https://colab.research.google.com/github/J-Neff/MAT421/blob/main/Neff_Module_C_Section_19_1%2C_19%2C2%2C_19_3%2C_19_4_19_5.ipynb\" target=\"_parent\"><img src=\"https://colab.research.google.com/assets/colab-badge.svg\" alt=\"Open In Colab\"/></a>"
      ]
    },
    {
      "cell_type": "code",
      "execution_count": 24,
      "metadata": {
        "colab": {
          "base_uri": "https://localhost:8080/"
        },
        "id": "HwCy92LJmOu3",
        "outputId": "1dde25b5-8765-4ed8-c995-5d1d8004df9a"
      },
      "outputs": [
        {
          "output_type": "stream",
          "name": "stdout",
          "text": [
            " message: The number of calls to function has reached maxfev = 400.\n",
            " success: False\n",
            "  status: 2\n",
            "     fun: [ 2.841e-84]\n",
            "       x: [ 1.760e+83]\n",
            "    nfev: 400\n",
            "    fjac: [[-1.000e+00]]\n",
            "       r: [ 6.836e-167]\n",
            "     qtf: [-4.596e-84]\n",
            "True\n",
            "-1.7694091796875\n",
            "-3.452054794520548\n"
          ]
        }
      ],
      "source": [
        "#Root Finding Problem Statement\n",
        "#Some equations have easily defined roots and others do not.\n",
        "import numpy as np\n",
        "from scipy import optimize\n",
        "f = lambda x: 1/(2*x)\n",
        "r=optimize.root(f,1)\n",
        "print(r)\n",
        "\n",
        "#Tolerance\n",
        "#Oftentimes precision can be variable when computing. Tolerance allows a person to determine how accurate they want a number to be.\n",
        "import math\n",
        "print(math.isclose(math.e, 2.7, rel_tol = 0.05))\n",
        "\n",
        "#Bisection Method\n",
        "def bisection(f, x1, x2, tol):\n",
        "    # check if x1 and x2 bound a root\n",
        "    if np.sign(f(x1)) == np.sign(f(x2)):\n",
        "        raise Exception(\n",
        "         \"The scalars do not bound a root\")\n",
        "    # get midpoint\n",
        "    mid = (x1 + x2)/2\n",
        "\n",
        "    if np.abs(f(mid)) < tol:\n",
        "        # stopping condition, report m as root\n",
        "        return mid\n",
        "    elif np.sign(f(x1)) == np.sign(f(mid)):\n",
        "        # case where mid is an improvement on x1.\n",
        "        # Make recursive call with x1 = mid\n",
        "        return bisection(f, mid, x2, tol)\n",
        "    elif np.sign(f(x2)) == np.sign(f(mid)):\n",
        "        # case where m is an improvement on b.\n",
        "        # Make recursive call with b = m\n",
        "        return bisection(f, x1, mid, tol)\n",
        "f= lambda x: x**3-2*x+2\n",
        "print(bisection(f, -5, 5, .001))\n",
        "\n",
        "#Newton-Raphson Method\n",
        "fp = lambda x: 3*(x**2)-2\n",
        "newton_raphson = -5 - (f(-5))/(fp(-5))\n",
        "print(newton_raphson)"
      ]
    }
  ]
}