{
  "nbformat": 4,
  "nbformat_minor": 0,
  "metadata": {
    "colab": {
      "provenance": [],
      "authorship_tag": "ABX9TyP9C4b7kafNtHslcl+d7VKm",
      "include_colab_link": true
    },
    "kernelspec": {
      "name": "python3",
      "display_name": "Python 3"
    },
    "language_info": {
      "name": "python"
    }
  },
  "cells": [
    {
      "cell_type": "markdown",
      "metadata": {
        "id": "view-in-github",
        "colab_type": "text"
      },
      "source": [
        "<a href=\"https://colab.research.google.com/github/J-Neff/MAT421/blob/main/Module_D_Section_1_1%2C_1_2%2C_1_3_and_1_4.ipynb\" target=\"_parent\"><img src=\"https://colab.research.google.com/assets/colab-badge.svg\" alt=\"Open In Colab\"/></a>"
      ]
    },
    {
      "cell_type": "code",
      "execution_count": 12,
      "metadata": {
        "colab": {
          "base_uri": "https://localhost:8080/"
        },
        "id": "n_-fkjNkA8AJ",
        "outputId": "2b8d2f8b-dbe1-4fed-ea8b-64cd3b79ab2e"
      },
      "outputs": [
        {
          "output_type": "stream",
          "name": "stdout",
          "text": [
            "3.7416573867739413\n",
            "7.0710678118654755\n",
            "(array([ 1.29282032e+01, -9.28203230e-01,  9.22462701e-16]), array([[-0.28932501, -0.80222426,  0.40824829],\n",
            "       [-0.53988782, -0.10747767, -0.81649658],\n",
            "       [-0.79045062,  0.58726892,  0.40824829]]))\n"
          ]
        }
      ],
      "source": [
        "#Linear Algebra concepts such as linear space, orthogonality, eigenvalues.\n",
        "import numpy as np\n",
        "np.linspace(1, 10, num=10)\n",
        "#produces an array of equally spaced integers.\n",
        "\n",
        "a1=np.array([1,2,3])\n",
        "a2=np.array([3,4,5])\n",
        "np.dot(a1,a2)\n",
        "n1=np.linalg.norm(a1, ord=2)\n",
        "n2=np.linalg.norm(a2, ord=2)\n",
        "print(n1)\n",
        "print(n2)\n",
        "#demonstrates orthagonality\n",
        "\n",
        "a3=np.array([a1,a2, np.array([5,6,7])])\n",
        "#print(a3)\n",
        "e=np.linalg.eig(a3)\n",
        "#print(e)\n",
        "#produces the eigenvalues\n",
        "\n",
        "from sklearn.linear_model import LinearRegression\n",
        "x=np.array(1,2,3,4,5).reshape((-1, 1))\n",
        "y=np.array(5,6,7,8,9)\n",
        "model = LinearRegression().fit(x, y)\n",
        "#demonstrates linear regression"
      ]
    }
  ]
}