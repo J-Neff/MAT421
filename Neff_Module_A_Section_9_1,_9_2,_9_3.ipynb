{
  "nbformat": 4,
  "nbformat_minor": 0,
  "metadata": {
    "colab": {
      "provenance": [],
      "authorship_tag": "ABX9TyOthCkXFbZumpsVxWJAW77w",
      "include_colab_link": true
    },
    "kernelspec": {
      "name": "python3",
      "display_name": "Python 3"
    },
    "language_info": {
      "name": "python"
    }
  },
  "cells": [
    {
      "cell_type": "markdown",
      "metadata": {
        "id": "view-in-github",
        "colab_type": "text"
      },
      "source": [
        "<a href=\"https://colab.research.google.com/github/J-Neff/MAT421/blob/main/Neff_Module_A_Section_9_1%2C_9_2%2C_9_3.ipynb\" target=\"_parent\"><img src=\"https://colab.research.google.com/assets/colab-badge.svg\" alt=\"Open In Colab\"/></a>"
      ]
    },
    {
      "cell_type": "code",
      "execution_count": 3,
      "metadata": {
        "colab": {
          "base_uri": "https://localhost:8080/"
        },
        "id": "Sy3jlLeI5QHb",
        "outputId": "ac2f3b83-cd21-4236-a34d-3e44b5282ffb"
      },
      "outputs": [
        {
          "output_type": "stream",
          "name": "stdout",
          "text": [
            "When x = 32:\n",
            "In Binary:0b100000\n",
            "Base 8:0o40\n",
            "2.6666666666666665\n",
            "3.141592653589793\n",
            "0.4444444444444444\n",
            "0.44444\n"
          ]
        }
      ],
      "source": [
        "#Base-N and Binary\n",
        "#Process: Used a random number generator to get \"x\". Given that \"bin()\" is short for binary, tried the latin base names for 1-10.\n",
        "#These were: una() for unary (base 1), bin() for binary (base 2), tri() for trinary (base 3), qua() and quat() for quaternary (base 4), qui() and quin() for quinary (base 5)\n",
        "#cont. sexi() for seximal (base 6), sept() for septimal (base 7), oct() for octal (base 8), non() for nonary (base 9), and dec() for decimal (base 10).\n",
        "#Out of these, binary and octal bases had existing commands within python. Decimal is standard, hence x is already in base 10.\n",
        "print(\"When x = 32:\")\n",
        "x= 32\n",
        "print(\"In Binary:\"+ bin(x))\n",
        "print(\"Base 8:\" + oct(x))\n",
        "\n",
        "#Floating Point Numbers\n",
        "import math\n",
        "#Process: Used float() to convert fraction 8/3 and constant pi to a rounded decimal.\n",
        "print(float(8/3))\n",
        "print(float(math.pi))\n",
        "\n",
        "#Round-off Errors\n",
        "#Process: The round() allows a number of significant figures to be chosen. This is useful for repeating decimals,\n",
        "#cont. such as 1/3 or ~.33333. 1/3 can only ever be represented as an approximation in decimal form, hence round() allows you to choose how precise you wish to be.\n",
        "print(1/3+1/9)\n",
        "print(round(1/3+1/9, 5))\n",
        "\n",
        "\n"
      ]
    }
  ]
}