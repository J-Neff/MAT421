{
  "nbformat": 4,
  "nbformat_minor": 0,
  "metadata": {
    "colab": {
      "provenance": [],
      "authorship_tag": "ABX9TyOWeCmePM6TbsTeyile3RiH",
      "include_colab_link": true
    },
    "kernelspec": {
      "name": "python3",
      "display_name": "Python 3"
    },
    "language_info": {
      "name": "python"
    }
  },
  "cells": [
    {
      "cell_type": "markdown",
      "metadata": {
        "id": "view-in-github",
        "colab_type": "text"
      },
      "source": [
        "<a href=\"https://colab.research.google.com/github/J-Neff/MAT421/blob/main/Module_G_Section_21_1%2C_21_2%2C_21_3.ipynb\" target=\"_parent\"><img src=\"https://colab.research.google.com/assets/colab-badge.svg\" alt=\"Open In Colab\"/></a>"
      ]
    },
    {
      "cell_type": "markdown",
      "source": [
        "Numerical Integration Problem Statement"
      ],
      "metadata": {
        "id": "w_ofkUeB21kI"
      }
    },
    {
      "cell_type": "code",
      "execution_count": 2,
      "metadata": {
        "colab": {
          "base_uri": "https://localhost:8080/"
        },
        "id": "QzscDKVy2CRv",
        "outputId": "2da3b07a-bdfe-4150-bf78-92a4b9508d38"
      },
      "outputs": [
        {
          "output_type": "stream",
          "name": "stdout",
          "text": [
            "Approximate value of the definite integral: 0.3333332499999999\n"
          ]
        }
      ],
      "source": [
        "def numerical_integration_basic(f, a, b, n):\n",
        "    delta_x = (b - a) / n\n",
        "    integral = 0\n",
        "    for i in range(n):\n",
        "        x_mid = a + (i + 0.5) * delta_x\n",
        "        integral += f(x_mid) * delta_x\n",
        "    return integral\n",
        "\n",
        "# Example function: f(x) = x^2\n",
        "def f(x):\n",
        "    return x**2\n",
        "\n",
        "# Define the limits of integration and the number of subintervals\n",
        "a = 0\n",
        "b = 1\n",
        "n = 1000  # Increase n for better accuracy\n",
        "\n",
        "# Calculate the integral using basic numerical integration\n",
        "integral = numerical_integration_basic(f, a, b, n)\n",
        "print(\"Approximate value of the definite integral:\", integral)\n"
      ]
    },
    {
      "cell_type": "markdown",
      "source": [
        "Riemann’s Integral"
      ],
      "metadata": {
        "id": "4cTUfQN923_D"
      }
    },
    {
      "cell_type": "code",
      "source": [
        "def riemann_integral(f, a, b, n, method='left'):\n",
        "    delta_x = (b - a) / n\n",
        "    integral = 0\n",
        "    for i in range(n):\n",
        "        if method == 'left':\n",
        "            x = a + i * delta_x\n",
        "        elif method == 'right':\n",
        "            x = a + (i + 1) * delta_x\n",
        "        elif method == 'midpoint':\n",
        "            x = a + (i + 0.5) * delta_x\n",
        "        else:\n",
        "            raise ValueError(\"Invalid method. Choose from 'left', 'right', or 'midpoint'.\")\n",
        "        integral += f(x) * delta_x\n",
        "    return integral\n",
        "\n",
        "# Example function: f(x) = x^2\n",
        "def f(x):\n",
        "    return x**2\n",
        "\n",
        "# Define the limits of integration and the number of subintervals\n",
        "a = 0\n",
        "b = 1\n",
        "n = 1000  # Increase n for better accuracy\n",
        "\n",
        "# Calculate the integral using Riemann's Integral with different methods\n",
        "integral_left = riemann_integral(f, a, b, n, method='left')\n",
        "integral_right = riemann_integral(f, a, b, n, method='right')\n",
        "integral_midpoint = riemann_integral(f, a, b, n, method='midpoint')\n",
        "\n",
        "print(\"Approximate value of the definite integral (left endpoints):\", integral_left)\n",
        "print(\"Approximate value of the definite integral (right endpoints):\", integral_right)\n",
        "print(\"Approximate value of the definite integral (midpoints):\", integral_midpoint)\n"
      ],
      "metadata": {
        "colab": {
          "base_uri": "https://localhost:8080/"
        },
        "id": "5n9Kcold26Eu",
        "outputId": "bea45dfc-8b72-412e-c5f0-929fe9fb6ed4"
      },
      "execution_count": 3,
      "outputs": [
        {
          "output_type": "stream",
          "name": "stdout",
          "text": [
            "Approximate value of the definite integral (left endpoints): 0.33283350000000034\n",
            "Approximate value of the definite integral (right endpoints): 0.33383350000000034\n",
            "Approximate value of the definite integral (midpoints): 0.3333332499999999\n"
          ]
        }
      ]
    },
    {
      "cell_type": "markdown",
      "source": [
        "Trapezoid Rule"
      ],
      "metadata": {
        "id": "1ikfwvhi3Nl6"
      }
    },
    {
      "cell_type": "code",
      "source": [
        "def trapezoidal_rule(f, a, b, n):\n",
        "    h = (b - a) / n\n",
        "    result = 0.5 * (f(a) + f(b))  # First and last terms in the formula\n",
        "    for i in range(1, n):\n",
        "        result += f(a + i * h)\n",
        "    result *= h\n",
        "    return result\n",
        "\n",
        "# Example function: f(x) = x^2\n",
        "def f(x):\n",
        "    return x**2\n",
        "\n",
        "# Define the limits of integration and the number of subintervals\n",
        "a = 0\n",
        "b = 1\n",
        "n = 1000  # Increase n for better accuracy\n",
        "\n",
        "# Calculate the integral using the trapezoidal rule\n",
        "integral = trapezoidal_rule(f, a, b, n)\n",
        "print(\"Approximate value of the definite integral using the Trapezoidal Rule:\", integral)"
      ],
      "metadata": {
        "colab": {
          "base_uri": "https://localhost:8080/"
        },
        "id": "AcWWCXvB3QzQ",
        "outputId": "51041d68-427d-4158-e1f8-e85678f179da"
      },
      "execution_count": 4,
      "outputs": [
        {
          "output_type": "stream",
          "name": "stdout",
          "text": [
            "Approximate value of the definite integral using the Trapezoidal Rule: 0.33333349999999995\n"
          ]
        }
      ]
    }
  ]
}