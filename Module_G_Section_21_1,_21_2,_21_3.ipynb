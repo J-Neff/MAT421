{
  "nbformat": 4,
  "nbformat_minor": 0,
  "metadata": {
    "colab": {
      "provenance": [],
      "authorship_tag": "ABX9TyO5RUsxwUUzbJXwDT3ndgyt",
      "include_colab_link": true
    },
    "kernelspec": {
      "name": "python3",
      "display_name": "Python 3"
    },
    "language_info": {
      "name": "python"
    }
  },
  "cells": [
    {
      "cell_type": "markdown",
      "metadata": {
        "id": "view-in-github",
        "colab_type": "text"
      },
      "source": [
        "<a href=\"https://colab.research.google.com/github/J-Neff/MAT421/blob/main/Module_G_Section_21_1%2C_21_2%2C_21_3.ipynb\" target=\"_parent\"><img src=\"https://colab.research.google.com/assets/colab-badge.svg\" alt=\"Open In Colab\"/></a>"
      ]
    },
    {
      "cell_type": "markdown",
      "source": [
        "Numerical Integration Problem Statement"
      ],
      "metadata": {
        "id": "w_ofkUeB21kI"
      }
    },
    {
      "cell_type": "code",
      "execution_count": 3,
      "metadata": {
        "colab": {
          "base_uri": "https://localhost:8080/"
        },
        "id": "QzscDKVy2CRv",
        "outputId": "0b4ef074-803d-4dae-e835-fba5a8e35eef"
      },
      "outputs": [
        {
          "output_type": "stream",
          "name": "stdout",
          "text": [
            "Approximate value of the definite integral: 0.6666664999999998\n"
          ]
        }
      ],
      "source": [
        "def numerical_integration_basic(f, a, b, n):\n",
        "    delta_x = (b - a) / n\n",
        "    integral = 0\n",
        "    for i in range(n):\n",
        "        x_mid = a + (i + 0.5) * delta_x\n",
        "        integral += f(x_mid) * delta_x\n",
        "    return integral\n",
        "\n",
        "# Example function: f(x) = 2x^2\n",
        "def f(x):\n",
        "    return 2*x**2\n",
        "\n",
        "# Define the limits of integration and the number of subintervals\n",
        "a = 0\n",
        "b = 1\n",
        "n = 1000  # Increase n for better accuracy\n",
        "\n",
        "# Calculate the integral using basic numerical integration\n",
        "integral = numerical_integration_basic(f, a, b, n)\n",
        "print(\"Approximate value of the definite integral:\", integral)\n"
      ]
    },
    {
      "cell_type": "markdown",
      "source": [
        "Riemann’s Integral"
      ],
      "metadata": {
        "id": "4cTUfQN923_D"
      }
    },
    {
      "cell_type": "code",
      "source": [
        "def riemann_integral(f, a, b, n, method='left'):\n",
        "    delta_x = (b - a) / n\n",
        "    integral = 0\n",
        "    for i in range(n):\n",
        "        if method == 'left':\n",
        "            x = a + i * delta_x\n",
        "        elif method == 'right':\n",
        "            x = a + (i + 1) * delta_x\n",
        "        elif method == 'midpoint':\n",
        "            x = a + (i + 0.5) * delta_x\n",
        "        else:\n",
        "            raise ValueError(\"Invalid method. Choose from 'left', 'right', or 'midpoint'.\")\n",
        "        integral += f(x) * delta_x\n",
        "    return integral\n",
        "\n",
        "# Example function: f(x) = 2x^2\n",
        "def f(x):\n",
        "    return 2*x**2\n",
        "\n",
        "# Define the limits of integration and the number of subintervals\n",
        "a = 0\n",
        "b = 1\n",
        "n = 1000  # Increase n for better accuracy\n",
        "\n",
        "# Calculate the integral using Riemann's Integral with different methods\n",
        "integral_left = riemann_integral(f, a, b, n, method='left')\n",
        "integral_right = riemann_integral(f, a, b, n, method='right')\n",
        "integral_midpoint = riemann_integral(f, a, b, n, method='midpoint')\n",
        "\n",
        "print(\"Approximate value of the definite integral (left endpoints):\", integral_left)\n",
        "print(\"Approximate value of the definite integral (right endpoints):\", integral_right)\n",
        "print(\"Approximate value of the definite integral (midpoints):\", integral_midpoint)\n"
      ],
      "metadata": {
        "colab": {
          "base_uri": "https://localhost:8080/"
        },
        "id": "5n9Kcold26Eu",
        "outputId": "78ffd706-0d48-483d-c143-b29c55f47241"
      },
      "execution_count": 4,
      "outputs": [
        {
          "output_type": "stream",
          "name": "stdout",
          "text": [
            "Approximate value of the definite integral (left endpoints): 0.6656670000000007\n",
            "Approximate value of the definite integral (right endpoints): 0.6676670000000007\n",
            "Approximate value of the definite integral (midpoints): 0.6666664999999998\n"
          ]
        }
      ]
    },
    {
      "cell_type": "markdown",
      "source": [
        "Trapezoid Rule"
      ],
      "metadata": {
        "id": "1ikfwvhi3Nl6"
      }
    },
    {
      "cell_type": "code",
      "source": [
        "def trapezoidal_rule(f, a, b, n):\n",
        "    h = (b - a) / n\n",
        "    result = 0.5 * (f(a) + f(b))  # First and last terms in the formula\n",
        "    for i in range(1, n):\n",
        "        result += f(a + i * h)\n",
        "    result *= h\n",
        "    return result\n",
        "\n",
        "# Example function: f(x) = 2x^2\n",
        "def f(x):\n",
        "    return 2*x**2\n",
        "\n",
        "# Define the limits of integration and the number of subintervals\n",
        "a = 0\n",
        "b = 1\n",
        "n = 1000  # Increase n for better accuracy\n",
        "\n",
        "# Calculate the integral using the trapezoidal rule\n",
        "integral = trapezoidal_rule(f, a, b, n)\n",
        "print(\"Approximate value of the definite integral using the Trapezoidal Rule:\", integral)"
      ],
      "metadata": {
        "colab": {
          "base_uri": "https://localhost:8080/"
        },
        "id": "AcWWCXvB3QzQ",
        "outputId": "bddee580-5eb0-4d12-e84d-a071ced9d1ad"
      },
      "execution_count": 2,
      "outputs": [
        {
          "output_type": "stream",
          "name": "stdout",
          "text": [
            "Approximate value of the definite integral using the Trapezoidal Rule: 0.6666669999999999\n"
          ]
        }
      ]
    }
  ]
}