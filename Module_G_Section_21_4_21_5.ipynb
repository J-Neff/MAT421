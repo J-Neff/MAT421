{
  "nbformat": 4,
  "nbformat_minor": 0,
  "metadata": {
    "colab": {
      "provenance": [],
      "authorship_tag": "ABX9TyNyp4wSD51KU4WIhSrlUs43",
      "include_colab_link": true
    },
    "kernelspec": {
      "name": "python3",
      "display_name": "Python 3"
    },
    "language_info": {
      "name": "python"
    }
  },
  "cells": [
    {
      "cell_type": "markdown",
      "metadata": {
        "id": "view-in-github",
        "colab_type": "text"
      },
      "source": [
        "<a href=\"https://colab.research.google.com/github/J-Neff/MAT421/blob/main/Module_G_Section_21_4_21_5.ipynb\" target=\"_parent\"><img src=\"https://colab.research.google.com/assets/colab-badge.svg\" alt=\"Open In Colab\"/></a>"
      ]
    },
    {
      "cell_type": "markdown",
      "source": [
        "Simpson's Rule"
      ],
      "metadata": {
        "id": "IsmXX1lZ744y"
      }
    },
    {
      "cell_type": "code",
      "execution_count": 2,
      "metadata": {
        "id": "1kA7Jkwf7O-Y",
        "colab": {
          "base_uri": "https://localhost:8080/"
        },
        "outputId": "b8cf0464-bf1c-4c0c-f0d3-4ae195b68df8"
      },
      "outputs": [
        {
          "output_type": "stream",
          "name": "stdout",
          "text": [
            "Approximate Integral using Simpson's Rule: 0.6666666666666669\n"
          ]
        }
      ],
      "source": [
        "def simpsons_rule(f, a, b, n):\n",
        "    if n % 2 != 0:\n",
        "        raise ValueError(\"Number of subintervals (n) must be even.\")\n",
        "\n",
        "    h = (b - a) / n\n",
        "    integral = f(a) + f(b)\n",
        "\n",
        "    for i in range(1, n, 2):\n",
        "        integral += 4 * f(a + i * h)\n",
        "\n",
        "    for i in range(2, n-1, 2):\n",
        "        integral += 2 * f(a + i * h)\n",
        "\n",
        "    integral *= h / 3\n",
        "\n",
        "    return integral\n",
        "\n",
        "# Example usage:\n",
        "def f(x):\n",
        "    return 2*x**2  # Example function\n",
        "\n",
        "a = 0  # Lower limit\n",
        "b = 1  # Upper limit\n",
        "n = 10  # Number of subintervals\n",
        "\n",
        "approx_integral = simpsons_rule(f, a, b, n)\n",
        "print(\"Approximate Integral using Simpson's Rule:\", approx_integral)\n"
      ]
    }
  ]
}